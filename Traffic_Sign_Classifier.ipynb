{
 "cells": [
  {
   "cell_type": "markdown",
   "metadata": {
    "deletable": true,
    "editable": true
   },
   "source": [
    "# Self-Driving Car Engineer Nanodegree\n",
    "\n",
    "## Deep Learning\n",
    "\n",
    "## Project: Build a Traffic Sign Recognition Classifier\n",
    "\n",
    "In this notebook, a template is provided for you to implement your functionality in stages, which is required to successfully complete this project. If additional code is required that cannot be included in the notebook, be sure that the Python code is successfully imported and included in your submission if necessary. \n",
    "\n",
    "> **Note**: Once you have completed all of the code implementations, you need to finalize your work by exporting the iPython Notebook as an HTML document. Before exporting the notebook to html, all of the code cells need to have been run so that reviewers can see the final implementation and output. You can then export the notebook by using the menu above and navigating to  \\n\",\n",
    "    \"**File -> Download as -> HTML (.html)**. Include the finished document along with this notebook as your submission. \n",
    "\n",
    "In addition to implementing code, there is a writeup to complete. The writeup should be completed in a separate file, which can be either a markdown file or a pdf document. There is a [write up template](https://github.com/udacity/CarND-Traffic-Sign-Classifier-Project/blob/master/writeup_template.md) that can be used to guide the writing process. Completing the code template and writeup template will cover all of the [rubric points](https://review.udacity.com/#!/rubrics/481/view) for this project.\n",
    "\n",
    "The [rubric](https://review.udacity.com/#!/rubrics/481/view) contains \"Stand Out Suggestions\" for enhancing the project beyond the minimum requirements. The stand out suggestions are optional. If you decide to pursue the \"stand out suggestions\", you can include the code in this Ipython notebook and also discuss the results in the writeup file.\n",
    "\n",
    "\n",
    ">**Note:** Code and Markdown cells can be executed using the **Shift + Enter** keyboard shortcut. In addition, Markdown cells can be edited by typically double-clicking the cell to enter edit mode."
   ]
  },
  {
   "cell_type": "markdown",
   "metadata": {
    "deletable": true,
    "editable": true
   },
   "source": [
    "---\n",
    "## Step 0: Load The Data"
   ]
  },
  {
   "cell_type": "code",
   "execution_count": 1,
   "metadata": {
    "collapsed": false,
    "deletable": true,
    "editable": true
   },
   "outputs": [],
   "source": [
    "# Load pickled data\n",
    "import pickle\n",
    "\n",
    "# TODO: Fill this in based on where you saved the training and testing data\n",
    "\n",
    "training_file = 'traffic-signs-data/train.p'\n",
    "validation_file= 'traffic-signs-data/valid.p'\n",
    "testing_file = 'traffic-signs-data/test.p'\n",
    "\n",
    "with open(training_file, mode='rb') as f:\n",
    "    train = pickle.load(f)\n",
    "with open(validation_file, mode='rb') as f:\n",
    "    valid = pickle.load(f)\n",
    "with open(testing_file, mode='rb') as f:\n",
    "    test = pickle.load(f)\n",
    "    \n",
    "X_train, y_train = train['features'], train['labels']\n",
    "X_valid, y_valid = valid['features'], valid['labels']\n",
    "X_test, y_test = test['features'], test['labels']"
   ]
  },
  {
   "cell_type": "markdown",
   "metadata": {
    "deletable": true,
    "editable": true
   },
   "source": [
    "---\n",
    "\n",
    "## Step 1: Dataset Summary & Exploration\n",
    "\n",
    "The pickled data is a dictionary with 4 key/value pairs:\n",
    "\n",
    "- `'features'` is a 4D array containing raw pixel data of the traffic sign images, (num examples, width, height, channels).\n",
    "- `'labels'` is a 1D array containing the label/class id of the traffic sign. The file `signnames.csv` contains id -> name mappings for each id.\n",
    "- `'sizes'` is a list containing tuples, (width, height) representing the original width and height the image.\n",
    "- `'coords'` is a list containing tuples, (x1, y1, x2, y2) representing coordinates of a bounding box around the sign in the image. **THESE COORDINATES ASSUME THE ORIGINAL IMAGE. THE PICKLED DATA CONTAINS RESIZED VERSIONS (32 by 32) OF THESE IMAGES**\n",
    "\n",
    "Complete the basic data summary below. Use python, numpy and/or pandas methods to calculate the data summary rather than hard coding the results. For example, the [pandas shape method](http://pandas.pydata.org/pandas-docs/stable/generated/pandas.DataFrame.shape.html) might be useful for calculating some of the summary results. "
   ]
  },
  {
   "cell_type": "markdown",
   "metadata": {
    "deletable": true,
    "editable": true
   },
   "source": [
    "### Provide a Basic Summary of the Data Set Using Python, Numpy and/or Pandas"
   ]
  },
  {
   "cell_type": "code",
   "execution_count": 2,
   "metadata": {
    "collapsed": false,
    "deletable": true,
    "editable": true
   },
   "outputs": [
    {
     "name": "stdout",
     "output_type": "stream",
     "text": [
      "Number of training examples = 34799\n",
      "Number of testing examples = 12630\n",
      "Number of validation examples= 4410\n",
      "Image data shape = (32, 32, 3)\n",
      "Number of classes = 43\n"
     ]
    }
   ],
   "source": [
    "### Replace each question mark with the appropriate value. \n",
    "### Use python, pandas or numpy methods rather than hard coding the results\n",
    "\n",
    "# TODO: Number of training examples\n",
    "n_train = len(train['features'])\n",
    "\n",
    "# TODO: Number of validation examples\n",
    "n_validation = len(valid['features'])\n",
    "\n",
    "# TODO: Number of testing examples.\n",
    "n_test = len(test['features'])\n",
    "\n",
    "# TODO: What's the shape of an traffic sign image?\n",
    "image_shape = len(train['features'][0]), len(train['features'][0][0]),len(train['features'][0][0][0])\n",
    "\n",
    "# TODO: How many unique classes/labels there are in the dataset.\n",
    "n_classes = len(set(train['labels']))\n",
    "\n",
    "print(\"Number of training examples =\", n_train)\n",
    "print(\"Number of testing examples =\", n_test)\n",
    "print(\"Number of validation examples=\", n_validation)\n",
    "print(\"Image data shape =\", image_shape)\n",
    "print(\"Number of classes =\", n_classes)"
   ]
  },
  {
   "cell_type": "markdown",
   "metadata": {
    "deletable": true,
    "editable": true
   },
   "source": [
    "### Include an exploratory visualization of the dataset"
   ]
  },
  {
   "cell_type": "markdown",
   "metadata": {
    "deletable": true,
    "editable": true
   },
   "source": [
    "Visualize the German Traffic Signs Dataset using the pickled file(s). This is open ended, suggestions include: plotting traffic sign images, plotting the count of each sign, etc. \n",
    "\n",
    "The [Matplotlib](http://matplotlib.org/) [examples](http://matplotlib.org/examples/index.html) and [gallery](http://matplotlib.org/gallery.html) pages are a great resource for doing visualizations in Python.\n",
    "\n",
    "**NOTE:** It's recommended you start with something simple first. If you wish to do more, come back to it after you've completed the rest of the sections. It can be interesting to look at the distribution of classes in the training, validation and test set. Is the distribution the same? Are there more examples of some classes than others?"
   ]
  },
  {
   "cell_type": "code",
   "execution_count": 3,
   "metadata": {
    "collapsed": false,
    "deletable": true,
    "editable": true
   },
   "outputs": [
    {
     "data": {
      "text/plain": [
       "<matplotlib.image.AxesImage at 0x7f3469246908>"
      ]
     },
     "execution_count": 3,
     "metadata": {},
     "output_type": "execute_result"
    },
    {
     "data": {
      "image/png": "[encoded data removed]",
      "text/plain": [
       "<matplotlib.figure.Figure at 0x7f349c1d2710>"
      ]
     },
     "metadata": {},
     "output_type": "display_data"
    }
   ],
   "source": [
    "### Data exploration visualization code goes here.\n",
    "### Feel free to use as many code cells as needed.\n",
    "import matplotlib.pyplot as plt\n",
    "# Visualizations will be shown in the notebook.\n",
    "%matplotlib inline\n",
    "plt.imshow(X_train[1000])"
   ]
  },
  {
   "cell_type": "code",
   "execution_count": 4,
   "metadata": {
    "collapsed": false,
    "deletable": true,
    "editable": true,
    "scrolled": true
   },
   "outputs": [
    {
     "data": {
      "text/plain": [
       "<matplotlib.text.Text at 0x7f34690dd7f0>"
      ]
     },
     "execution_count": 4,
     "metadata": {},
     "output_type": "execute_result"
    },
    {
     "data": {
      "image/png": "[encoded data removed]",
      "text/plain": [
       "<matplotlib.figure.Figure at 0x7f34692233c8>"
      ]
     },
     "metadata": {},
     "output_type": "display_data"
    }
   ],
   "source": [
    "fig, (ax0, ax1, ax2) = plt.subplots(ncols=3, figsize=(12,4))\n",
    "ax0.hist(train['labels'],bins=n_classes)\n",
    "ax0.set_title('histogram for training data')\n",
    "ax1.hist(valid['labels'],bins=n_classes)\n",
    "ax1.set_title('histogram for validation data')\n",
    "ax2.hist(test['labels'],bins=n_classes)\n",
    "ax2.set_title('histogram for test data')"
   ]
  },
  {
   "cell_type": "markdown",
   "metadata": {
    "deletable": true,
    "editable": true
   },
   "source": [
    "----\n",
    "\n",
    "## Step 2: Design and Test a Model Architecture\n",
    "\n",
    "Design and implement a deep learning model that learns to recognize traffic signs. Train and test your model on the [German Traffic Sign Dataset](http://benchmark.ini.rub.de/?section=gtsrb&subsection=dataset).\n",
    "\n",
    "The LeNet-5 implementation shown in the [classroom](https://classroom.udacity.com/nanodegrees/nd013/parts/fbf77062-5703-404e-b60c-95b78b2f3f9e/modules/6df7ae49-c61c-4bb2-a23e-6527e69209ec/lessons/601ae704-1035-4287-8b11-e2c2716217ad/concepts/d4aca031-508f-4e0b-b493-e7b706120f81) at the end of the CNN lesson is a solid starting point. You'll have to change the number of classes and possibly the preprocessing, but aside from that it's plug and play! \n",
    "\n",
    "With the LeNet-5 solution from the lecture, you should expect a validation set accuracy of about 0.89. To meet specifications, the validation set accuracy will need to be at least 0.93. It is possible to get an even higher accuracy, but 0.93 is the minimum for a successful project submission. \n",
    "\n",
    "There are various aspects to consider when thinking about this problem:\n",
    "\n",
    "- Neural network architecture (is the network over or underfitting?)\n",
    "- Play around preprocessing techniques (normalization, rgb to grayscale, etc)\n",
    "- Number of examples per label (some have more than others).\n",
    "- Generate fake data.\n",
    "\n",
    "Here is an example of a [published baseline model on this problem](http://yann.lecun.com/exdb/publis/pdf/sermanet-ijcnn-11.pdf). It's not required to be familiar with the approach used in the paper but, it's good practice to try to read papers like these."
   ]
  },
  {
   "cell_type": "markdown",
   "metadata": {
    "deletable": true,
    "editable": true
   },
   "source": [
    "### Pre-process the Data Set (normalization, grayscale, etc.)"
   ]
  },
  {
   "cell_type": "markdown",
   "metadata": {
    "deletable": true,
    "editable": true
   },
   "source": [
    "Minimally, the image data should be normalized so that the data has mean zero and equal variance. For image data, `(pixel - 128)/ 128` is a quick way to approximately normalize the data and can be used in this project. \n",
    "\n",
    "Other pre-processing steps are optional. You can try different techniques to see if it improves performance. \n",
    "\n",
    "Use the code cell (or multiple code cells, if necessary) to implement the first step of your project."
   ]
  },
  {
   "cell_type": "code",
   "execution_count": 5,
   "metadata": {
    "collapsed": false,
    "deletable": true,
    "editable": true
   },
   "outputs": [],
   "source": [
    "### Preprocess the data here. It is required to normalize the data. Other preprocessing steps could include \n",
    "### converting to grayscale, etc.\n",
    "### Feel free to use as many code cells as needed.\n",
    "\n",
    "#define functions to convert to grayscale, resize and normalize\n",
    "import numpy as np\n",
    "import cv2\n",
    "\n",
    "def cvt_gray(image):\n",
    "    image = cv2.cvtColor(image, cv2.COLOR_RGB2GRAY)\n",
    "    return image\n",
    "\n",
    "def reshape(image):\n",
    "    image = np.reshape(image, (32,32,1))\n",
    "    return image\n",
    "\n",
    "def normalize(image):\n",
    "    return ((image*1. - 128)/128)\n",
    "\n",
    "def batch_cvt_gray(X):\n",
    "    X_p = []\n",
    "    for image in X:\n",
    "        image_p = cvt_gray(image)\n",
    "        X_p.append(image_p)\n",
    "    return X_p\n",
    "\n",
    "def batch_reshape(X):\n",
    "    X_p = []\n",
    "    for image in X:\n",
    "        image_p = reshape(image)\n",
    "        X_p.append(image_p)\n",
    "    return X_p\n",
    "    \n",
    "\n",
    "def batch_normalize(X):\n",
    "    X_n = []\n",
    "    for image in X:\n",
    "        image_p = normalize(image)\n",
    "        X_n.append(image_p)\n",
    "    return X_n\n",
    "\n",
    "def batch_process(X):\n",
    "    X_p=[]\n",
    "    for image in X:\n",
    "        image_p = normalize(reshape(image))\n",
    "        X_p.append(image_p)\n",
    "    return X_p\n",
    "    \n",
    "    \n"
   ]
  },
  {
   "cell_type": "code",
   "execution_count": 6,
   "metadata": {
    "collapsed": false,
    "deletable": true,
    "editable": true
   },
   "outputs": [],
   "source": [
    "# convert image into gray scale\n",
    "X_train_gray = batch_cvt_gray(X_train)\n",
    "X_valid_gray = batch_cvt_gray(X_valid)\n",
    "X_test_gray = batch_cvt_gray(X_test)"
   ]
  },
  {
   "cell_type": "code",
   "execution_count": 7,
   "metadata": {
    "collapsed": false,
    "deletable": true,
    "editable": true,
    "scrolled": false
   },
   "outputs": [
    {
     "data": {
      "image/png": "[encoded data removed]",
      "text/plain": [
       "<matplotlib.figure.Figure at 0x7f3469136dd8>"
      ]
     },
     "metadata": {},
     "output_type": "display_data"
    }
   ],
   "source": [
    "#plot converted image:\n",
    "f, ((ax0, ax1), (ax2, ax3)) = plt.subplots(2,2)\n",
    "ax0.imshow(X_train[100])\n",
    "ax0.set_title('original')\n",
    "ax1.imshow(X_train_gray[100], cmap='gray')\n",
    "ax1.set_title('grayscale')\n",
    "ax2.imshow(X_train[1000])\n",
    "ax2.set_title('original')\n",
    "ax3.imshow(X_train_gray[1000], cmap='gray')\n",
    "ax3.set_title('grayscale')\n",
    "plt.tight_layout()"
   ]
  },
  {
   "cell_type": "code",
   "execution_count": 8,
   "metadata": {
    "collapsed": false,
    "deletable": true,
    "editable": true
   },
   "outputs": [],
   "source": [
    "# reshape and normalize \n",
    "X_train = batch_process(X_train_gray)\n",
    "X_valid = batch_process(X_valid_gray)\n",
    "X_test = batch_process(X_test_gray)"
   ]
  },
  {
   "cell_type": "markdown",
   "metadata": {
    "deletable": true,
    "editable": true
   },
   "source": [
    "### Model Architecture"
   ]
  },
  {
   "cell_type": "code",
   "execution_count": 9,
   "metadata": {
    "collapsed": false,
    "deletable": true,
    "editable": true
   },
   "outputs": [],
   "source": [
    "## define model weights and bias\n",
    "import tensorflow as tf\n",
    "weights = {\n",
    "            'cw1': tf.Variable(tf.truncated_normal(shape=[5,5,1,16], mean=0, stddev=0.1), name='cw1'),\\\n",
    "            'cw2': tf.Variable(tf.truncated_normal(shape=[5,5,16,64], mean=0, stddev=0.1), name='cw2'),\\\n",
    "            'fw1': tf.Variable(tf.truncated_normal(shape=[1600,400], mean=0, stddev=0.1), name='fw1'),\\\n",
    "            'fw2': tf.Variable(tf.truncated_normal(shape=[400,120], mean=0, stddev=0.1), name='fw2'),\\\n",
    "            'fw3': tf.Variable(tf.truncated_normal(shape=[120,84], mean=0, stddev=0.1), name='fw3'),\\\n",
    "            'fw4': tf.Variable(tf.truncated_normal(shape=[84, n_classes], mean=0, stddev=0.1), name='fw4')\\\n",
    "          }\n",
    "\n",
    "biases = {\n",
    "            'cb1': tf.Variable(tf.zeros([16]), name='cb1'),\\\n",
    "            'cb2': tf.Variable(tf.zeros([64]), name='cb2'),\\\n",
    "            'fb1': tf.Variable(tf.zeros([400]), name='fb1'),\\\n",
    "            'fb2': tf.Variable(tf.zeros([120]), name='fb2'),\\\n",
    "            'fb3': tf.Variable(tf.zeros([84]), name='fb3'),\\\n",
    "            'fb4': tf.Variable(tf.zeros([n_classes]), name='fb4')\\\n",
    "}\n",
    "\n",
    "tf.add_to_collection('weights', weights['cw1'])"
   ]
  },
  {
   "cell_type": "code",
   "execution_count": 10,
   "metadata": {
    "collapsed": false,
    "deletable": true,
    "editable": true
   },
   "outputs": [],
   "source": [
    "for weight in weights:\n",
    "    tf.add_to_collection('weights', weights[weight])\n",
    "    \n",
    "for bias in biases:\n",
    "    tf.add_to_collection('biases', biases[bias])"
   ]
  },
  {
   "cell_type": "code",
   "execution_count": 11,
   "metadata": {
    "collapsed": true,
    "deletable": true,
    "editable": true
   },
   "outputs": [],
   "source": [
    "### Define your architecture here.\n",
    "### Feel free to use as many code cells as needed.\n",
    "from tensorflow.contrib.layers import flatten\n",
    "EPOCHS = 50\n",
    "BATCH_SIZE = 128\n",
    "\n",
    "def conv(layer_input, w, b, conv_strides=1, conv_padding='VALID', \\\n",
    "         pool_ksize=2, pool_strides=2, pool_padding='SAME', mu=0, sigma=0.1):\n",
    "    conv_layer = tf.nn.conv2d(layer_input, w, strides=[1,conv_strides,conv_strides,1], padding=conv_padding)\n",
    "    conv_layer = tf.nn.bias_add(conv_layer, b)\n",
    "    conv_layer = tf.nn.relu(conv_layer)\n",
    "    conv_layer = tf.nn.max_pool(conv_layer, ksize=[1,pool_ksize,pool_ksize,1], \\\n",
    "                                strides=[1,pool_strides,pool_strides,1], padding=pool_padding)\n",
    "    return conv_layer\n",
    "\n",
    "def full_connect(layer_input, w, b, mu = 0, sigma = 0.1, relu=True):\n",
    "    if relu:\n",
    "        return tf.nn.relu(tf.add(tf.matmul(layer_input, w), b))\n",
    "    else:\n",
    "        return tf.add(tf.matmul(layer_input, w), b)\n",
    "    \n",
    "    \n",
    "\n",
    "def cnn_model(x, dropout, weights, biases):\n",
    "    \n",
    "    #convolutional layer 1, 32x32x3 => convolution: 28x28x16 => max pooling: 14x14x16\n",
    "    \n",
    "    conv_layer = conv(x, weights['cw1'], biases['cb1'], conv_strides=1, conv_padding='VALID',\\\n",
    "                     pool_ksize=2, pool_strides=2, pool_padding='SAME')\n",
    "    \n",
    "    #convolutional layer 2, 14x14x16 => convolution: 10x10x64 => max pooling: 5x5x64\n",
    "    conv_layer = conv(conv_layer, weights['cw2'], biases['cb2'], conv_strides=1, conv_padding='VALID',\\\n",
    "                     pool_ksize=2, pool_strides=2, pool_padding='SAME')\n",
    "    \n",
    "    #flatten\n",
    "    fc_layer = flatten(conv_layer)\n",
    "    #fully connected layer 2, 1600 => 400\n",
    "    fc_layer = full_connect(fc_layer, weights['fw1'], biases['fb1'])\n",
    "    fc_layer = tf.nn.dropout(fc_layer, dropout)\n",
    "    #Fully connected layer 3, 400 => 120\n",
    "    fc_layer = full_connect(fc_layer, weights['fw2'], biases['fb2'])\n",
    "    fc_layer = tf.nn.dropout(fc_layer, dropout)\n",
    "    #fully connected layer 4, 120 => 84\n",
    "    fc_layer = full_connect(fc_layer, weights['fw3'], biases['fb3'])\n",
    "    fc_layer = tf.nn.dropout(fc_layer, dropout)\n",
    "    #fully connected layer 5, 84 => 43\n",
    "    logics = full_connect(fc_layer, weights['fw4'], biases['fb4'], relu=False)\n",
    "    \n",
    "    return logics\n",
    "    \n",
    "    "
   ]
  },
  {
   "cell_type": "markdown",
   "metadata": {
    "deletable": true,
    "editable": true
   },
   "source": [
    "### Train, Validate and Test the Model"
   ]
  },
  {
   "cell_type": "markdown",
   "metadata": {
    "deletable": true,
    "editable": true
   },
   "source": [
    "A validation set can be used to assess how well the model is performing. A low accuracy on the training and validation\n",
    "sets imply underfitting. A high accuracy on the training set but low accuracy on the validation set implies overfitting."
   ]
  },
  {
   "cell_type": "code",
   "execution_count": 12,
   "metadata": {
    "collapsed": false,
    "deletable": true,
    "editable": true
   },
   "outputs": [],
   "source": [
    "keep_prob = tf.placeholder(tf.float32)\n",
    "X = tf.placeholder(tf.float32, [None, 32, 32, 1])\n",
    "y = tf.placeholder(tf.int32, [None])\n",
    "one_hot_y = tf.one_hot(y, n_classes)"
   ]
  },
  {
   "cell_type": "code",
   "execution_count": 13,
   "metadata": {
    "collapsed": false,
    "deletable": true,
    "editable": true,
    "scrolled": false
   },
   "outputs": [],
   "source": [
    "### Train your model here.\n",
    "rate = 0.001\n",
    "\n",
    "logits = cnn_model(X, keep_prob, weights, biases)\n",
    "cross_entropy = tf.nn.softmax_cross_entropy_with_logits(labels=one_hot_y, logits=logits)\n",
    "loss_operation = tf.reduce_mean(cross_entropy)\n",
    "optimizer = tf.train.AdamOptimizer(learning_rate = rate)\n",
    "training_operation = optimizer.minimize(loss_operation)\n",
    "\n",
    "#accuracy and loss\n",
    "correct_prediction = tf.equal(tf.argmax(logits,1), tf.argmax(one_hot_y,1))\n",
    "accuracy_operation = tf.reduce_mean(tf.cast(correct_prediction, tf.float32))\n",
    "saver = tf.train.Saver()\n",
    "\n",
    "def evaluate(X_data, y_data):\n",
    "    num_examples = len(X_data)\n",
    "    total_accuracy = 0\n",
    "    sess = tf.get_default_session()\n",
    "    for offset in range(0, num_examples, BATCH_SIZE):\n",
    "        batch_X, batch_y = X_data[offset:offset+BATCH_SIZE], y_data[offset:offset+BATCH_SIZE]\n",
    "        accuracy = sess.run(accuracy_operation, feed_dict={X: batch_X, y: batch_y, keep_prob: 0.75})\n",
    "        total_accuracy += (accuracy * len(batch_X))\n",
    "    return total_accuracy / num_examples\n",
    "\n"
   ]
  },
  {
   "cell_type": "code",
   "execution_count": 14,
   "metadata": {
    "collapsed": false,
    "deletable": true,
    "editable": true,
    "scrolled": false
   },
   "outputs": [
    {
     "name": "stdout",
     "output_type": "stream",
     "text": [
      "Training...\n",
      "\n",
      "EPOCHS 1..\n",
      "training_accuracy = 0.782\n",
      "validation_accuracy = 0.725\n",
      "\n",
      "EPOCHS 2..\n",
      "training_accuracy = 0.917\n",
      "validation_accuracy = 0.846\n",
      "\n",
      "EPOCHS 3..\n",
      "training_accuracy = 0.956\n",
      "validation_accuracy = 0.890\n",
      "\n",
      "EPOCHS 4..\n",
      "training_accuracy = 0.966\n",
      "validation_accuracy = 0.906\n",
      "\n",
      "EPOCHS 5..\n",
      "training_accuracy = 0.981\n",
      "validation_accuracy = 0.924\n",
      "\n",
      "EPOCHS 6..\n",
      "training_accuracy = 0.983\n",
      "validation_accuracy = 0.932\n",
      "\n",
      "EPOCHS 7..\n",
      "training_accuracy = 0.986\n",
      "validation_accuracy = 0.943\n",
      "\n",
      "EPOCHS 8..\n",
      "training_accuracy = 0.987\n",
      "validation_accuracy = 0.942\n",
      "\n",
      "EPOCHS 9..\n",
      "training_accuracy = 0.989\n",
      "validation_accuracy = 0.924\n",
      "\n",
      "EPOCHS 10..\n",
      "training_accuracy = 0.991\n",
      "validation_accuracy = 0.941\n",
      "\n",
      "EPOCHS 11..\n",
      "training_accuracy = 0.991\n",
      "validation_accuracy = 0.941\n",
      "\n",
      "EPOCHS 12..\n",
      "training_accuracy = 0.995\n",
      "validation_accuracy = 0.951\n",
      "\n",
      "EPOCHS 13..\n",
      "training_accuracy = 0.993\n",
      "validation_accuracy = 0.942\n",
      "\n",
      "EPOCHS 14..\n",
      "training_accuracy = 0.993\n",
      "validation_accuracy = 0.938\n",
      "\n",
      "EPOCHS 15..\n",
      "training_accuracy = 0.994\n",
      "validation_accuracy = 0.948\n",
      "\n",
      "EPOCHS 16..\n",
      "training_accuracy = 0.994\n",
      "validation_accuracy = 0.944\n",
      "\n",
      "EPOCHS 17..\n",
      "training_accuracy = 0.994\n",
      "validation_accuracy = 0.948\n",
      "\n",
      "EPOCHS 18..\n",
      "training_accuracy = 0.997\n",
      "validation_accuracy = 0.951\n",
      "\n",
      "EPOCHS 19..\n",
      "training_accuracy = 0.995\n",
      "validation_accuracy = 0.939\n",
      "\n",
      "EPOCHS 20..\n",
      "training_accuracy = 0.997\n",
      "validation_accuracy = 0.945\n",
      "\n",
      "EPOCHS 21..\n",
      "training_accuracy = 0.990\n",
      "validation_accuracy = 0.930\n",
      "\n",
      "EPOCHS 22..\n",
      "training_accuracy = 0.995\n",
      "validation_accuracy = 0.946\n",
      "\n",
      "EPOCHS 23..\n",
      "training_accuracy = 0.997\n",
      "validation_accuracy = 0.950\n",
      "\n",
      "EPOCHS 24..\n",
      "training_accuracy = 0.996\n",
      "validation_accuracy = 0.937\n",
      "\n",
      "EPOCHS 25..\n",
      "training_accuracy = 0.996\n",
      "validation_accuracy = 0.948\n",
      "\n",
      "EPOCHS 26..\n",
      "training_accuracy = 0.994\n",
      "validation_accuracy = 0.950\n",
      "\n",
      "EPOCHS 27..\n",
      "training_accuracy = 0.998\n",
      "validation_accuracy = 0.954\n",
      "\n",
      "EPOCHS 28..\n",
      "training_accuracy = 0.996\n",
      "validation_accuracy = 0.942\n",
      "\n",
      "EPOCHS 29..\n",
      "training_accuracy = 0.997\n",
      "validation_accuracy = 0.952\n",
      "\n",
      "EPOCHS 30..\n",
      "training_accuracy = 0.995\n",
      "validation_accuracy = 0.944\n",
      "\n",
      "EPOCHS 31..\n",
      "training_accuracy = 0.991\n",
      "validation_accuracy = 0.941\n",
      "\n",
      "EPOCHS 32..\n",
      "training_accuracy = 0.997\n",
      "validation_accuracy = 0.951\n",
      "\n",
      "EPOCHS 33..\n",
      "training_accuracy = 0.996\n",
      "validation_accuracy = 0.946\n",
      "\n",
      "EPOCHS 34..\n",
      "training_accuracy = 0.996\n",
      "validation_accuracy = 0.952\n",
      "\n",
      "EPOCHS 35..\n",
      "training_accuracy = 0.998\n",
      "validation_accuracy = 0.952\n",
      "\n",
      "EPOCHS 36..\n",
      "training_accuracy = 0.997\n",
      "validation_accuracy = 0.945\n",
      "\n",
      "EPOCHS 37..\n",
      "training_accuracy = 0.998\n",
      "validation_accuracy = 0.958\n",
      "\n",
      "EPOCHS 38..\n",
      "training_accuracy = 0.997\n",
      "validation_accuracy = 0.952\n",
      "\n",
      "EPOCHS 39..\n",
      "training_accuracy = 0.998\n",
      "validation_accuracy = 0.952\n",
      "\n",
      "EPOCHS 40..\n",
      "training_accuracy = 0.998\n",
      "validation_accuracy = 0.954\n",
      "\n",
      "EPOCHS 41..\n",
      "training_accuracy = 0.996\n",
      "validation_accuracy = 0.956\n",
      "\n",
      "EPOCHS 42..\n",
      "training_accuracy = 0.997\n",
      "validation_accuracy = 0.957\n",
      "\n",
      "EPOCHS 43..\n",
      "training_accuracy = 0.998\n",
      "validation_accuracy = 0.959\n",
      "\n",
      "EPOCHS 44..\n",
      "training_accuracy = 0.999\n",
      "validation_accuracy = 0.954\n",
      "\n",
      "EPOCHS 45..\n",
      "training_accuracy = 0.996\n",
      "validation_accuracy = 0.941\n",
      "\n",
      "EPOCHS 46..\n",
      "training_accuracy = 0.999\n",
      "validation_accuracy = 0.954\n",
      "\n",
      "EPOCHS 47..\n",
      "training_accuracy = 0.998\n",
      "validation_accuracy = 0.959\n",
      "\n",
      "EPOCHS 48..\n",
      "training_accuracy = 0.998\n",
      "validation_accuracy = 0.953\n",
      "\n",
      "EPOCHS 49..\n",
      "training_accuracy = 0.998\n",
      "validation_accuracy = 0.942\n",
      "\n",
      "EPOCHS 50..\n",
      "training_accuracy = 0.998\n",
      "validation_accuracy = 0.954\n",
      "\n",
      "model_saved\n"
     ]
    }
   ],
   "source": [
    "### Calculate and report the accuracy on the training and validation set.\n",
    "from sklearn.utils import shuffle\n",
    "\n",
    "with tf.Session() as sess:\n",
    "    sess.run(tf.global_variables_initializer())\n",
    "    num_examples = len(X_train)\n",
    "    \n",
    "    print ('Training...')\n",
    "    print ()\n",
    "    \n",
    "    for i in range(EPOCHS):\n",
    "        X_train, y_train = shuffle(X_train, y_train)\n",
    "        for offset in range(0, num_examples, BATCH_SIZE):\n",
    "            end = offset + BATCH_SIZE\n",
    "            batch_X, batch_y = X_train[offset:end], y_train[offset:end]\n",
    "            sess.run(training_operation, feed_dict={X: batch_X, y: batch_y, keep_prob: 0.75})\n",
    "        \n",
    "        training_accuracy = evaluate(X_train, y_train)\n",
    "        validation_accuracy = evaluate(X_valid, y_valid)\n",
    "        print ('EPOCHS {}..'.format(i+1))\n",
    "        print ('training_accuracy = {:.3f}'.format(training_accuracy))\n",
    "        print ('validation_accuracy = {:.3f}'.format(validation_accuracy))\n",
    "        print ()\n",
    "        \n",
    "    saver.save(sess, 'model')\n",
    "    print ('model_saved')\n",
    "    "
   ]
  },
  {
   "cell_type": "code",
   "execution_count": 15,
   "metadata": {
    "collapsed": false,
    "deletable": true,
    "editable": true
   },
   "outputs": [
    {
     "name": "stdout",
     "output_type": "stream",
     "text": [
      "Test Accuracy = 0.940\n"
     ]
    }
   ],
   "source": [
    "### Once a final model architecture is selected, \n",
    "### the accuracy on the test set should be calculated and reported as well.\n",
    "with tf.Session() as sess:\n",
    "    saver.restore(sess, tf.train.latest_checkpoint('.'))\n",
    "\n",
    "    test_accuracy = evaluate(X_test, y_test)\n",
    "    print(\"Test Accuracy = {:.3f}\".format(test_accuracy))"
   ]
  },
  {
   "cell_type": "markdown",
   "metadata": {
    "deletable": true,
    "editable": true
   },
   "source": [
    "---\n",
    "\n",
    "## Step 3: Test a Model on New Images\n",
    "\n",
    "To give yourself more insight into how your model is working, download at least five pictures of German traffic signs from the web and use your model to predict the traffic sign type.\n",
    "\n",
    "You may find `signnames.csv` useful as it contains mappings from the class id (integer) to the actual sign name."
   ]
  },
  {
   "cell_type": "markdown",
   "metadata": {
    "deletable": true,
    "editable": true
   },
   "source": [
    "### Load and Output the Images"
   ]
  },
  {
   "cell_type": "code",
   "execution_count": 16,
   "metadata": {
    "collapsed": false,
    "deletable": true,
    "editable": true
   },
   "outputs": [
    {
     "data": {
      "image/png": "[encoded data removed]",
      "text/plain": [
       "<matplotlib.figure.Figure at 0x7f33e84a82b0>"
      ]
     },
     "metadata": {},
     "output_type": "display_data"
    }
   ],
   "source": [
    "### Load the images and plot them here.\n",
    "### Feel free to use as many code cells as needed.\n",
    "\n",
    "import matplotlib.image as mpimg\n",
    "import cv2\n",
    "# check signnames.csv and choose the following 5 signs and find\n",
    "# images on the web\n",
    "\n",
    "\n",
    "sign1 = mpimg.imread(\"webtrafficsigns/web1.jpg\")\n",
    "sign2 = mpimg.imread(\"webtrafficsigns/web2.jpg\")\n",
    "sign3 = mpimg.imread(\"webtrafficsigns/web3.jpg\")\n",
    "sign4 = mpimg.imread(\"webtrafficsigns/web4.jpg\")\n",
    "sign5 = mpimg.imread(\"webtrafficsigns/web5.jpg\")\n",
    "\n",
    "ax0 = plt.subplot2grid((3,2),(0,0))\n",
    "ax0.imshow(sign1)\n",
    "ax1 = plt.subplot2grid((3,2),(0,1))\n",
    "ax1.imshow(sign2)\n",
    "ax2 = plt.subplot2grid((3,2),(1,0))\n",
    "ax2.imshow(sign3)\n",
    "ax3 = plt.subplot2grid((3,2),(1,1))\n",
    "ax3.imshow(sign4)\n",
    "ax4 = plt.subplot2grid((3,2),(2,0))\n",
    "ax4.imshow(sign5)\n",
    "plt.tight_layout()\n",
    "\n",
    "image_list = [sign1, sign2, sign3, sign4, sign5]\n"
   ]
  },
  {
   "cell_type": "code",
   "execution_count": 17,
   "metadata": {
    "collapsed": false,
    "deletable": true,
    "editable": true,
    "scrolled": true
   },
   "outputs": [
    {
     "data": {
      "image/png": "[encoded data removed]",
      "text/plain": [
       "<matplotlib.figure.Figure at 0x7f34669deda0>"
      ]
     },
     "metadata": {},
     "output_type": "display_data"
    }
   ],
   "source": [
    "#resize image to 32x32x3 and convert to gray scale\n",
    "import cv2\n",
    "\n",
    "resized_image_list=[]\n",
    "for image in image_list:\n",
    "    resized_image = cv2.resize(cv2.cvtColor(image, cv2.COLOR_RGB2GRAY), (32,32))\n",
    "    resized_image_list.append(resized_image)\n",
    "\n",
    "ax0 = plt.subplot2grid((3,2),(0,0))\n",
    "ax0.imshow(resized_image_list[0], cmap='gray')\n",
    "ax1 = plt.subplot2grid((3,2),(0,1))\n",
    "ax1.imshow(resized_image_list[1], cmap='gray')\n",
    "ax2 = plt.subplot2grid((3,2),(1,0))\n",
    "ax2.imshow(resized_image_list[2], cmap='gray')\n",
    "ax3 = plt.subplot2grid((3,2),(1,1))\n",
    "ax3.imshow(resized_image_list[3], cmap='gray')\n",
    "ax4 = plt.subplot2grid((3,2),(2,0))\n",
    "ax4.imshow(resized_image_list[4], cmap='gray')\n",
    "plt.tight_layout()\n"
   ]
  },
  {
   "cell_type": "code",
   "execution_count": 18,
   "metadata": {
    "collapsed": false,
    "deletable": true,
    "editable": true
   },
   "outputs": [],
   "source": [
    "#reshape the five grayscale images into 32x32x1 which is ready for\n",
    "#tensorflow convolutional 2d\n",
    "import numpy as np\n",
    "reshaped_image_list=[]\n",
    "for image in resized_image_list:\n",
    "    reshaped_image = np.reshape(image, (32,32,1))\n",
    "    reshaped_image_list.append(reshaped_image)\n"
   ]
  },
  {
   "cell_type": "code",
   "execution_count": 19,
   "metadata": {
    "collapsed": false,
    "deletable": true,
    "editable": true
   },
   "outputs": [],
   "source": [
    "#normalize the five images:\n",
    "import numpy as np\n",
    "input_images = (np.asarray(reshaped_image_list)*1.0 - 128)/128"
   ]
  },
  {
   "cell_type": "markdown",
   "metadata": {
    "deletable": true,
    "editable": true
   },
   "source": [
    "### Predict the Sign Type for Each Image"
   ]
  },
  {
   "cell_type": "code",
   "execution_count": 20,
   "metadata": {
    "collapsed": true,
    "deletable": true,
    "editable": true
   },
   "outputs": [],
   "source": [
    "### Run the predictions here and use the model to output the prediction for each image.\n",
    "### Make sure to pre-process the images with the same pre-processing pipeline used earlier.\n",
    "### Feel free to use as many code cells as needed."
   ]
  },
  {
   "cell_type": "code",
   "execution_count": 21,
   "metadata": {
    "collapsed": false,
    "deletable": true,
    "editable": true,
    "scrolled": true
   },
   "outputs": [
    {
     "name": "stdout",
     "output_type": "stream",
     "text": [
      "The prediction for image 1 is: 4\n",
      "The prediction for image 2 is: 14\n",
      "The prediction for image 3 is: 18\n",
      "The prediction for image 4 is: 18\n",
      "The prediction for image 5 is: 28\n"
     ]
    }
   ],
   "source": [
    "#restore model\n",
    "with tf.Session() as sess:\n",
    "    sess.run(tf.global_variables_initializer())\n",
    "    saver.restore(sess, './model')\n",
    "    softmax = tf.nn.softmax(cnn_model(X, keep_prob, weights, biases))\n",
    "    output = sess.run(softmax, feed_dict={X:input_images, keep_prob: 0.75})\n",
    "    predict_1 = np.argmax(output[0])\n",
    "    print ('The prediction for image 1 is: ' + str(predict_1))\n",
    "    predict_2 = np.argmax(output[1])\n",
    "    print ('The prediction for image 2 is: ' + str(predict_2))\n",
    "    predict_3 = np.argmax(output[2])\n",
    "    print ('The prediction for image 3 is: ' + str(predict_3))\n",
    "    predict_4 = np.argmax(output[3])\n",
    "    print ('The prediction for image 4 is: ' + str(predict_4))\n",
    "    predict_5 = np.argmax(output[4])\n",
    "    print ('The prediction for image 5 is: ' + str(predict_5))\n",
    "    predict_list = [predict_1, predict_2, predict_3, predict_4, predict_5]"
   ]
  },
  {
   "cell_type": "markdown",
   "metadata": {
    "deletable": true,
    "editable": true
   },
   "source": [
    "### Analyze Performance"
   ]
  },
  {
   "cell_type": "code",
   "execution_count": 22,
   "metadata": {
    "collapsed": false,
    "deletable": true,
    "editable": true
   },
   "outputs": [
    {
     "name": "stdout",
     "output_type": "stream",
     "text": [
      "the accuracy of the prediction is: 0.8\n"
     ]
    }
   ],
   "source": [
    "### Calculate the accuracy for these 5 new images. \n",
    "### For example, if the model predicted 1 out of 5 signs correctly, it's 20% accurate on these new images.\n",
    "true=[4,14,18,3,28]\n",
    "accuracy = np.mean(np.asarray(predict_list)==np.asarray(true))\n",
    "print ('the accuracy of the prediction is: ' + str(accuracy))"
   ]
  },
  {
   "cell_type": "markdown",
   "metadata": {
    "deletable": true,
    "editable": true
   },
   "source": [
    "### Output Top 5 Softmax Probabilities For Each Image Found on the Web"
   ]
  },
  {
   "cell_type": "markdown",
   "metadata": {
    "deletable": true,
    "editable": true
   },
   "source": [
    "For each of the new images, print out the model's softmax probabilities to show the **certainty** of the model's predictions (limit the output to the top 5 probabilities for each image). [`tf.nn.top_k`](https://www.tensorflow.org/versions/r0.12/api_docs/python/nn.html#top_k) could prove helpful here. \n",
    "\n",
    "The example below demonstrates how tf.nn.top_k can be used to find the top k predictions for each image.\n",
    "\n",
    "`tf.nn.top_k` will return the values and indices (class ids) of the top k predictions. So if k=3, for each sign, it'll return the 3 largest probabilities (out of a possible 43) and the correspoding class ids.\n",
    "\n",
    "Take this numpy array as an example. The values in the array represent predictions. The array contains softmax probabilities for five candidate images with six possible classes. `tk.nn.top_k` is used to choose the three classes with the highest probability:\n",
    "\n",
    "```\n",
    "# (5, 6) array\n",
    "a = np.array([[ 0.24879643,  0.07032244,  0.12641572,  0.34763842,  0.07893497,\n",
    "         0.12789202],\n",
    "       [ 0.28086119,  0.27569815,  0.08594638,  0.0178669 ,  0.18063401,\n",
    "         0.15899337],\n",
    "       [ 0.26076848,  0.23664738,  0.08020603,  0.07001922,  0.1134371 ,\n",
    "         0.23892179],\n",
    "       [ 0.11943333,  0.29198961,  0.02605103,  0.26234032,  0.1351348 ,\n",
    "         0.16505091],\n",
    "       [ 0.09561176,  0.34396535,  0.0643941 ,  0.16240774,  0.24206137,\n",
    "         0.09155967]])\n",
    "```\n",
    "\n",
    "Running it through `sess.run(tf.nn.top_k(tf.constant(a), k=3))` produces:\n",
    "\n",
    "```\n",
    "TopKV2(values=array([[ 0.34763842,  0.24879643,  0.12789202],\n",
    "       [ 0.28086119,  0.27569815,  0.18063401],\n",
    "       [ 0.26076848,  0.23892179,  0.23664738],\n",
    "       [ 0.29198961,  0.26234032,  0.16505091],\n",
    "       [ 0.34396535,  0.24206137,  0.16240774]]), indices=array([[3, 0, 5],\n",
    "       [0, 1, 4],\n",
    "       [0, 5, 1],\n",
    "       [1, 3, 5],\n",
    "       [1, 4, 3]], dtype=int32))\n",
    "```\n",
    "\n",
    "Looking just at the first row we get `[ 0.34763842,  0.24879643,  0.12789202]`, you can confirm these are the 3 largest probabilities in `a`. You'll also notice `[3, 0, 5]` are the corresponding indices."
   ]
  },
  {
   "cell_type": "code",
   "execution_count": 23,
   "metadata": {
    "collapsed": false,
    "deletable": true,
    "editable": true
   },
   "outputs": [
    {
     "name": "stdout",
     "output_type": "stream",
     "text": [
      "TopKV2(values=array([[  9.07104254e-01,   9.12270844e-02,   1.66793703e-03,\n",
      "          6.72944452e-07,   6.86246115e-10],\n",
      "       [  9.95179057e-01,   4.81650373e-03,   4.49159597e-06,\n",
      "          6.39814690e-09,   2.11060525e-09],\n",
      "       [  1.00000000e+00,   0.00000000e+00,   0.00000000e+00,\n",
      "          0.00000000e+00,   0.00000000e+00],\n",
      "       [  9.29104328e-01,   5.87783977e-02,   1.21072456e-02,\n",
      "          6.17087107e-06,   3.72280510e-06],\n",
      "       [  1.00000000e+00,   3.29531428e-29,   3.35489990e-31,\n",
      "          6.09375919e-32,   2.60487436e-33]], dtype=float32), indices=array([[ 4, 18, 31, 39, 25],\n",
      "       [14,  1,  4,  0, 33],\n",
      "       [18,  0,  1,  2,  3],\n",
      "       [18, 31, 20, 29, 23],\n",
      "       [28, 29, 20, 24, 11]], dtype=int32))\n"
     ]
    }
   ],
   "source": [
    "### Print out the top five softmax probabilities for the predictions on the German traffic sign images found on the web. \n",
    "### Feel free to use as many code cells as needed.\n",
    "with tf.Session() as sess:\n",
    "    top_5_softmax = sess.run(tf.nn.top_k(tf.constant(output),k=5))\n",
    "    print (top_5_softmax)"
   ]
  },
  {
   "cell_type": "markdown",
   "metadata": {
    "deletable": true,
    "editable": true
   },
   "source": [
    "### Project Writeup\n",
    "\n",
    "Once you have completed the code implementation, document your results in a project writeup using this [template](https://github.com/udacity/CarND-Traffic-Sign-Classifier-Project/blob/master/writeup_template.md) as a guide. The writeup can be in a markdown or pdf file. "
   ]
  },
  {
   "cell_type": "markdown",
   "metadata": {
    "deletable": true,
    "editable": true
   },
   "source": [
    "> **Note**: Once you have completed all of the code implementations and successfully answered each question above, you may finalize your work by exporting the iPython Notebook as an HTML document. You can do this by using the menu above and navigating to  \\n\",\n",
    "    \"**File -> Download as -> HTML (.html)**. Include the finished document along with this notebook as your submission."
   ]
  },
  {
   "cell_type": "markdown",
   "metadata": {
    "deletable": true,
    "editable": true
   },
   "source": [
    "---\n",
    "\n",
    "## Step 4 (Optional): Visualize the Neural Network's State with Test Images\n",
    "\n",
    " This Section is not required to complete but acts as an additional excersise for understaning the output of a neural network's weights. While neural networks can be a great learning device they are often referred to as a black box. We can understand what the weights of a neural network look like better by plotting their feature maps. After successfully training your neural network you can see what it's feature maps look like by plotting the output of the network's weight layers in response to a test stimuli image. From these plotted feature maps, it's possible to see what characteristics of an image the network finds interesting. For a sign, maybe the inner network feature maps react with high activation to the sign's boundary outline or to the contrast in the sign's painted symbol.\n",
    "\n",
    " Provided for you below is the function code that allows you to get the visualization output of any tensorflow weight layer you want. The inputs to the function should be a stimuli image, one used during training or a new one you provided, and then the tensorflow variable name that represents the layer's state during the training process, for instance if you wanted to see what the [LeNet lab's](https://classroom.udacity.com/nanodegrees/nd013/parts/fbf77062-5703-404e-b60c-95b78b2f3f9e/modules/6df7ae49-c61c-4bb2-a23e-6527e69209ec/lessons/601ae704-1035-4287-8b11-e2c2716217ad/concepts/d4aca031-508f-4e0b-b493-e7b706120f81) feature maps looked like for it's second convolutional layer you could enter conv2 as the tf_activation variable.\n",
    "\n",
    "For an example of what feature map outputs look like, check out NVIDIA's results in their paper [End-to-End Deep Learning for Self-Driving Cars](https://devblogs.nvidia.com/parallelforall/deep-learning-self-driving-cars/) in the section Visualization of internal CNN State. NVIDIA was able to show that their network's inner weights had high activations to road boundary lines by comparing feature maps from an image with a clear path to one without. Try experimenting with a similar test to show that your trained network's weights are looking for interesting features, whether it's looking at differences in feature maps from images with or without a sign, or even what feature maps look like in a trained network vs a completely untrained one on the same sign image.\n",
    "\n",
    "<figure>\n",
    " <img src=\"visualize_cnn.png\" width=\"380\" alt=\"Combined Image\" />\n",
    " <figcaption>\n",
    " <p></p> \n",
    " <p style=\"text-align: center;\"> Your output should look something like this (above)</p> \n",
    " </figcaption>\n",
    "</figure>\n",
    " <p></p> \n"
   ]
  },
  {
   "cell_type": "code",
   "execution_count": 24,
   "metadata": {
    "collapsed": true,
    "deletable": true,
    "editable": true
   },
   "outputs": [],
   "source": [
    "### Visualize your network's feature maps here.\n",
    "### Feel free to use as many code cells as needed.\n",
    "\n",
    "# image_input: the test image being fed into the network to produce the feature maps\n",
    "# tf_activation: should be a tf variable name used during your training procedure that represents the calculated state of a specific weight layer\n",
    "# activation_min/max: can be used to view the activation contrast in more detail, by default matplot sets min and max to the actual min and max values of the output\n",
    "# plt_num: used to plot out multiple different weight feature map sets on the same block, just extend the plt number for each new feature map entry\n",
    "\n",
    "def outputFeatureMap(image_input, tf_activation, activation_min=-1, activation_max=-1 ,plt_num=1):\n",
    "    # Here make sure to preprocess your image_input in a way your network expects\n",
    "    # with size, normalization, ect if needed\n",
    "    # image_input =\n",
    "    # Note: x should be the same name as your network's tensorflow data placeholder variable\n",
    "    # If you get an error tf_activation is not defined it may be having trouble accessing the variable from inside a function\n",
    "    activation = tf_activation.eval(session=sess,feed_dict={x : image_input})\n",
    "    featuremaps = activation.shape[3]\n",
    "    plt.figure(plt_num, figsize=(15,15))\n",
    "    for featuremap in range(featuremaps):\n",
    "        plt.subplot(6,8, featuremap+1) # sets the number of feature maps to show on each row and column\n",
    "        plt.title('FeatureMap ' + str(featuremap)) # displays the feature map number\n",
    "        if activation_min != -1 & activation_max != -1:\n",
    "            plt.imshow(activation[0,:,:, featuremap], interpolation=\"nearest\", vmin =activation_min, vmax=activation_max, cmap=\"gray\")\n",
    "        elif activation_max != -1:\n",
    "            plt.imshow(activation[0,:,:, featuremap], interpolation=\"nearest\", vmax=activation_max, cmap=\"gray\")\n",
    "        elif activation_min !=-1:\n",
    "            plt.imshow(activation[0,:,:, featuremap], interpolation=\"nearest\", vmin=activation_min, cmap=\"gray\")\n",
    "        else:\n",
    "            plt.imshow(activation[0,:,:, featuremap], interpolation=\"nearest\", cmap=\"gray\")"
   ]
  }
 ],
 "metadata": {
  "anaconda-cloud": {},
  "kernelspec": {
   "display_name": "Python 3",
   "language": "python",
   "name": "python3"
  },
  "language_info": {
   "codemirror_mode": {
    "name": "ipython",
    "version": 3
   },
   "file_extension": ".py",
   "mimetype": "text/x-python",
   "name": "python",
   "nbconvert_exporter": "python",
   "pygments_lexer": "ipython3",
   "version": "3.5.2"
  },
  "widgets": {
   "state": {},
   "version": "1.1.2"
  }
 },
 "nbformat": 4,
 "nbformat_minor": 1
}
